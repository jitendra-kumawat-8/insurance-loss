{
 "cells": [
  {
   "cell_type": "code",
   "execution_count": 5,
   "metadata": {},
   "outputs": [
    {
     "name": "stdout",
     "output_type": "stream",
     "text": [
      "100\n"
     ]
    }
   ],
   "source": [
    "def square(x) : return(x*x)\n",
    "def applier(q,x) : return q(x)\n",
    "y=applier(square,10)\n",
    "print(y)"
   ]
  },
  {
   "cell_type": "code",
   "execution_count": 12,
   "metadata": {},
   "outputs": [
    {
     "name": "stdout",
     "output_type": "stream",
     "text": [
      "<class 'filter'>\n"
     ]
    }
   ],
   "source": [
    "li=[10,20,30,10,40,30,60]\n",
    "final_list = filter(lambda x: (x%2 == 0) , li)\n",
    "print(type(final_list))"
   ]
  },
  {
   "cell_type": "code",
   "execution_count": null,
   "metadata": {},
   "outputs": [],
   "source": []
  },
  {
   "cell_type": "code",
   "execution_count": 24,
   "metadata": {},
   "outputs": [
    {
     "name": "stdout",
     "output_type": "stream",
     "text": [
      "[2, 3, 4, 5, 6, 7]\n",
      "[4, 6, 8, 10, 12, 14]\n",
      "[8, 12, 16, 20, 24, 28]\n"
     ]
    }
   ],
   "source": [
    "n = {2,3,4,5,6,7}\n",
    "n = list(n)\n",
    "print(n)\n",
    "doubles = list(map((lambda x : x*2),n))\n",
    "print(doubles)\n",
    "def double(n):\n",
    "    for i in range(len(n)):\n",
    "        n[i]=n[i]*2\n",
    "    return n\n",
    "print(double(doubles))"
   ]
  },
  {
   "cell_type": "code",
   "execution_count": null,
   "metadata": {},
   "outputs": [],
   "source": []
  }
 ],
 "metadata": {
  "kernelspec": {
   "display_name": "Python 3",
   "language": "python",
   "name": "python3"
  },
  "language_info": {
   "codemirror_mode": {
    "name": "ipython",
    "version": 3
   },
   "file_extension": ".py",
   "mimetype": "text/x-python",
   "name": "python",
   "nbconvert_exporter": "python",
   "pygments_lexer": "ipython3",
   "version": "3.7.4"
  }
 },
 "nbformat": 4,
 "nbformat_minor": 4
}
